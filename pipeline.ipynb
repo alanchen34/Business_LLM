{
  "cells": [
    {
      "cell_type": "code",
      "execution_count": 1,
      "metadata": {},
      "outputs": [],
      "source": [
        "import pandas as pd\n",
        "\n",
        "from data_pipeline import ReviewDataPipeline, create_sample_pipeline\n",
        "from utils.helpers.summary import validate_review_data, get_data_summary\n",
        "from utils.helpers.sampling import print_sampling_summary"
      ]
    },
    {
      "cell_type": "markdown",
      "metadata": {},
      "source": [
        "## Data Pipeline"
      ]
    },
    {
      "cell_type": "code",
      "execution_count": 2,
      "metadata": {},
      "outputs": [],
      "source": [
        "# Create pipeline instance\n",
        "pipeline = create_sample_pipeline()"
      ]
    },
    {
      "cell_type": "code",
      "execution_count": 3,
      "metadata": {},
      "outputs": [
        {
          "name": "stdout",
          "output_type": "stream",
          "text": [
            "\n",
            "=== Processing software ===\n",
            "Loaded 102084 reviews from data/software.tsv\n",
            "Data validation warnings:\n",
            "  - 5 reviews have empty review_body\n",
            "  - 2098 reviews are very short (< 10 characters)\n",
            "  - 2 reviews have missing dates\n",
            "Found 5602 reviews from 2012\n",
            "Sampled 4000 reviews for software\n",
            "Saved processed data to processed_data/software.csv\n",
            "\n",
            "=== Processing games ===\n",
            "Loaded 145431 reviews from data/games.tsv\n",
            "Data validation warnings:\n",
            "  - 3 reviews have empty review_body\n",
            "  - 8508 reviews are very short (< 10 characters)\n",
            "  - 11 reviews have missing dates\n",
            "Found 16624 reviews from 2012\n",
            "Sampled 4000 reviews for games\n",
            "Saved processed data to processed_data/games.csv\n"
          ]
        }
      ],
      "source": [
        "# Example: Process multiple categories\n",
        "data_config = {\n",
        "    # \"ebooks\": \"data/ebooks.tsv\",\n",
        "    # \"music\": \"data/music.tsv\", \n",
        "    \"software\": \"data/software.tsv\",\n",
        "    \"games\": \"data/games.tsv\",\n",
        "    # \"videos\": \"data/videos.tsv\"\n",
        "}\n",
        "processed_data = pipeline.process_all_categories(data_config)"
      ]
    },
    {
      "cell_type": "code",
      "execution_count": null,
      "metadata": {},
      "outputs": [],
      "source": [
        "merged_df = pipeline.merge_all_data(processed_data, \"final_dataset.csv\")"
      ]
    },
    {
      "cell_type": "markdown",
      "metadata": {},
      "source": [
        "## Dataset Summary"
      ]
    },
    {
      "cell_type": "code",
      "execution_count": null,
      "metadata": {},
      "outputs": [],
      "source": [
        "# Load your existing data\n",
        "df = pd.read_csv(\"/data/final_dataset.csv\")\n",
        "print(f\"  Loaded {len(df):,} reviews\")"
      ]
    },
    {
      "cell_type": "code",
      "execution_count": null,
      "metadata": {},
      "outputs": [],
      "source": [
        "# Validate the data\n",
        "validation_results = validate_review_data(df)\n",
        "if validation_results['warnings']:\n",
        "    print(\"  ❌ Warnings:\")\n",
        "    for warning in validation_results['warnings']:\n",
        "        print(f\"     - {warning}\")\n",
        "else:\n",
        "    print(\"  ✅ No data quality issues found\")"
      ]
    },
    {
      "cell_type": "code",
      "execution_count": null,
      "metadata": {},
      "outputs": [],
      "source": [
        "# Get data summary\n",
        "summary = get_data_summary(df)\n",
        "summary"
      ]
    },
    {
      "cell_type": "code",
      "execution_count": null,
      "metadata": {},
      "outputs": [],
      "source": [
        "print(f\"   Total reviews: {summary['total_reviews']:,}\")\n",
        "print(f\"   Date range: {summary['date_range']['earliest']} to {summary['date_range']['latest']}\")\n",
        "print(f\"   Verified purchase rate: {summary['verified_purchase_rate']:.1%}\")\n",
        "\n",
        "print(\"\\n   Rating distribution:\")\n",
        "for rating, count in summary['rating_distribution'].items():\n",
        "    print(f\"     {rating} stars: {count:,}\")"
      ]
    },
    {
      "cell_type": "code",
      "execution_count": null,
      "metadata": {},
      "outputs": [],
      "source": [
        "print_sampling_summary(df)"
      ]
    }
  ],
  "metadata": {
    "kernelspec": {
      "display_name": ".venv",
      "language": "python",
      "name": "python3"
    },
    "language_info": {
      "codemirror_mode": {
        "name": "ipython",
        "version": 3
      },
      "file_extension": ".py",
      "mimetype": "text/x-python",
      "name": "python",
      "nbconvert_exporter": "python",
      "pygments_lexer": "ipython3",
      "version": "3.10.9"
    }
  },
  "nbformat": 4,
  "nbformat_minor": 2
}
