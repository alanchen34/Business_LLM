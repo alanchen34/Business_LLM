{
 "cells": [
  {
   "cell_type": "markdown",
   "metadata": {},
   "source": [
    "### Environment Setup"
   ]
  },
  {
   "cell_type": "code",
   "execution_count": 52,
   "metadata": {},
   "outputs": [
    {
     "name": "stdout",
     "output_type": "stream",
     "text": [
      "Using model: gpt-5-nano\n"
     ]
    }
   ],
   "source": [
    "# !pip install openai python-dotenv pandas tqdm\n",
    "import os, ast, pandas as pd\n",
    "from tqdm import tqdm\n",
    "from dotenv import load_dotenv\n",
    "from openai import OpenAI\n",
    "\n",
    "# Load key from .env\n",
    "load_dotenv()\n",
    "api_key = os.getenv(\"OPENAI_API_KEY\")\n",
    "if not api_key:\n",
    "    raise RuntimeError(\"OPENAI_API_KEY is not set in your .env\")\n",
    "\n",
    "client = OpenAI(api_key=api_key)\n",
    "\n",
    "def resolve_model(alias: str, fallback: str | None = None) -> str:\n",
    "    models = client.models.list()\n",
    "    ids = [m.id for m in models.data]\n",
    "    if alias in ids:\n",
    "        return alias\n",
    "    cand = [m for m in ids if m.startswith(alias)]\n",
    "    if cand:\n",
    "        cand.sort(reverse=True)\n",
    "        return cand[0]\n",
    "    if fallback:\n",
    "        return fallback\n",
    "    raise ValueError(f\"No model found for alias '{alias}'. Sample IDs: {ids[:5]}\")\n",
    "\n",
    "MODEL_ALIAS = os.getenv(\"LLM_MODEL\", \"gpt-5-nano\")\n",
    "MODEL_NAME = resolve_model(MODEL_ALIAS)\n",
    "print(\"Using model:\", MODEL_NAME)"
   ]
  },
  {
   "cell_type": "code",
   "execution_count": 63,
   "metadata": {},
   "outputs": [],
   "source": [
    "CSV_PATH = os.getenv(\"REVIEWS_CSV\", \"merged_digital_2012.csv.zip\")\n",
    "TEXT_COL = os.getenv(\"TEXT_COL\", \"review_body\")\n",
    "STAR_COL = os.getenv(\"STAR_COL\", \"star_rating\")\n",
    "\n",
    "EXPORT_DIR = \"data/ab_outputs\"\n",
    "os.makedirs(EXPORT_DIR, exist_ok=True)\n",
    "EXPORT_TSV = os.path.join(EXPORT_DIR, \"sentiment_dictstyle.tsv\")\n",
    "\n",
    "SAMPLE_N = int(os.getenv(\"SAMPLE_N\", \"100\"))\n",
    "if SAMPLE_N <= 0:\n",
    "    SAMPLE_N = None\n",
    "\n",
    "# Robustly parse TEMPERATURE from env, fallback to 0.2 if not a valid float\n",
    "_temp_env = os.getenv(\"TEMP\", None)\n",
    "try:\n",
    "    TEMPERATURE = float(_temp_env)\n",
    "except (TypeError, ValueError):\n",
    "    TEMPERATURE = 0.2\n",
    "\n",
    "MAX_CHARS = int(os.getenv(\"MAX_CHARS\", \"8000\"))"
   ]
  },
  {
   "cell_type": "markdown",
   "metadata": {},
   "source": [
    "### Method1"
   ]
  },
  {
   "cell_type": "code",
   "execution_count": 64,
   "metadata": {},
   "outputs": [],
   "source": [
    "SYSTEM_PROMPT = \"\"\"You are an aspect-based sentiment labeling assistant for Amazon digital goods reviews.\n",
    "Return ONLY a valid Python dictionary (no code fences, no extra text) with this structure:\n",
    "\n",
    "{\n",
    "  \"overall_sentiment\": \"Positive|Negative|Neutral\",\n",
    "  \"aspect_sentiment\": {\n",
    "    \"Product Quality\": \"Positive|Negative|Neutral|N/A\",\n",
    "    \"Price & Value\": \"Positive|Negative|Neutral|N/A\",\n",
    "    \"Usability\": \"Positive|Negative|Neutral|N/A\",\n",
    "    \"Access & Compatibility\": \"Positive|Negative|Neutral|N/A\",\n",
    "    \"Customer Support\": \"Positive|Negative|Neutral|N/A\",\n",
    "    \"Content Variety & Features\": \"Positive|Negative|Neutral|N/A\",\n",
    "    \"Other\": \"Positive|Negative|Neutral|N/A\"\n",
    "  },\n",
    "  \"main_problem\": \"string|null\",\n",
    "  \"reason\": \"string|null\",\n",
    "  \"text_rating\": 0\n",
    "}\n",
    "\n",
    "Rules:\n",
    "- If an aspect is not mentioned, set its label to \"N/A\".\n",
    "- Keep \"reason\" ≤ 25 words.\n",
    "- Do NOT include backticks, code fences, or any explanation; output the dict only.\"\"\"\n",
    "\n",
    "USER_TEMPLATE = \"\"\"Review (stars = {stars}):\n",
    "{review_text}\n",
    "\n",
    "Return ONLY the Python dict described; nothing else.\"\"\""
   ]
  },
  {
   "cell_type": "code",
   "execution_count": 67,
   "metadata": {},
   "outputs": [],
   "source": [
    "def call_model_dict(text: str, stars=None, model: str = MODEL_NAME, temperature: float = TEMPERATURE) -> dict | None:\n",
    "    msg = USER_TEMPLATE.format(stars=str(stars) if stars is not None else \"NA\", review_text=str(text)[:MAX_CHARS])\n",
    "    # Only pass temperature if it is not None, not 1, and not required to be omitted for this model\n",
    "    kwargs = {\n",
    "        \"model\": model,\n",
    "        \"messages\": [\n",
    "            {\"role\": \"system\", \"content\": SYSTEM_PROMPT},\n",
    "            {\"role\": \"user\", \"content\": msg},\n",
    "        ]\n",
    "    }\n",
    "    # Only include temperature if it is not 1 and not None, and model is not in the known set that only allows default\n",
    "    models_requiring_default_temp = {\"gpt-5-nano\", \"gpt-5-nano-2025-08-07\"}\n",
    "    if (temperature is not None and temperature != 1\n",
    "        and not any(model.startswith(m) for m in models_requiring_default_temp)):\n",
    "        kwargs[\"temperature\"] = temperature\n",
    "    resp = client.chat.completions.create(**kwargs)\n",
    "    raw = resp.choices[0].message.content.strip()\n",
    "    try:\n",
    "        return ast.literal_eval(raw)\n",
    "    except Exception:\n",
    "        # Minimal fallback: try to trim accidental code fences or leading text\n",
    "        cleaned = raw.strip()\n",
    "        if cleaned.startswith(\"```\"):\n",
    "            cleaned = cleaned.strip(\"`\")\n",
    "            # attempt to drop leading \"python\" on the first line if present\n",
    "            lines = cleaned.splitlines()\n",
    "            if lines and lines[0].strip().lower().startswith(\"python\"):\n",
    "                cleaned = \"\\n\".join(lines[1:])\n",
    "        try:\n",
    "            return ast.literal_eval(cleaned)\n",
    "        except Exception:\n",
    "            return None"
   ]
  },
  {
   "cell_type": "markdown",
   "metadata": {},
   "source": [
    "### read data and run analysis"
   ]
  },
  {
   "cell_type": "code",
   "execution_count": 68,
   "metadata": {},
   "outputs": [
    {
     "name": "stderr",
     "output_type": "stream",
     "text": [
      "Infer (dict): 100%|██████████| 100/100 [17:28<00:00, 10.49s/it]"
     ]
    },
    {
     "name": "stdout",
     "output_type": "stream",
     "text": [
      "Done. Errors: 0\n",
      "                                         review_body overall_sentiment  \\\n",
      "0  This game has a few bugs I've encounter but no...          Positive   \n",
      "1  This is a poor substitute for the Real Blues B...          Negative   \n",
      "2  For its price, this DLC gives you what amounts...          Negative   \n",
      "\n",
      "                                    aspect_sentiment  \\\n",
      "0  {\"Product Quality\": \"Positive\", \"Price & Value...   \n",
      "1  {\"Product Quality\": \"Negative\", \"Price & Value...   \n",
      "2  {\"Product Quality\": \"Negative\", \"Price & Value...   \n",
      "\n",
      "                                        main_problem  \\\n",
      "0             Minor bugs present but non-disruptive.   \n",
      "1  Copied, low-quality substitute of the Real Blu...   \n",
      "2  Overpriced DLC with minimal unique content and...   \n",
      "\n",
      "                                              reason text_rating  \n",
      "0         Bugs mentioned but do not affect enjoyment           0  \n",
      "1           Substantial plagiarism and poor quality.           0  \n",
      "2  Charged money for a mod that adds little uniqu...           0  \n"
     ]
    },
    {
     "name": "stderr",
     "output_type": "stream",
     "text": [
      "\n"
     ]
    }
   ],
   "source": [
    "df = pd.read_csv(CSV_PATH, compression=\"zip\") if CSV_PATH.endswith(\".zip\") else pd.read_csv(CSV_PATH)\n",
    "if TEXT_COL not in df.columns:\n",
    "    raise ValueError(f\"Column '{TEXT_COL}' not found. Available: {list(df.columns)[:15]}\")\n",
    "\n",
    "df_run = df.sample(min(len(df), SAMPLE_N), random_state=42).reset_index(drop=True) if SAMPLE_N else df.copy().reset_index(drop=True)\n",
    "\n",
    "# Prepare columns to append (keep your original frame intact)\n",
    "for col in [\"overall_sentiment\",\"main_problem\",\"reason\",\"text_rating\",\"aspect_sentiment\"]:\n",
    "    if col not in df_run.columns:\n",
    "        df_run[col] = None\n",
    "\n",
    "errs = 0\n",
    "for i, r in enumerate(tqdm(df_run.itertuples(index=False), total=len(df_run), desc=\"Infer (dict)\")):\n",
    "    text = getattr(r, TEXT_COL)\n",
    "    stars = getattr(r, STAR_COL) if STAR_COL in df_run.columns else None\n",
    "    res = call_model_dict(text, stars=stars)\n",
    "    res = normalize_result(res)\n",
    "    if res is None:\n",
    "        errs += 1\n",
    "        continue\n",
    "    # Write back\n",
    "    df_run.at[i, \"overall_sentiment\"] = res.get(\"overall_sentiment\")\n",
    "    df_run.at[i, \"main_problem\"] = res.get(\"main_problem\")\n",
    "    df_run.at[i, \"reason\"] = res.get(\"reason\")\n",
    "    df_run.at[i, \"text_rating\"] = res.get(\"text_rating\")\n",
    "    # Store aspect_sentiment as a compact JSON-like string\n",
    "    try:\n",
    "        import json\n",
    "        df_run.at[i, \"aspect_sentiment\"] = json.dumps(res.get(\"aspect_sentiment\", {}), ensure_ascii=False)\n",
    "    except Exception:\n",
    "        df_run.at[i, \"aspect_sentiment\"] = str(res.get(\"aspect_sentiment\", {}))\n",
    "\n",
    "print(f\"Done. Errors: {errs}\")\n",
    "print(df_run.head(3)[[TEXT_COL, 'overall_sentiment', 'aspect_sentiment', 'main_problem', 'reason', 'text_rating']])"
   ]
  },
  {
   "cell_type": "code",
   "execution_count": null,
   "metadata": {},
   "outputs": [
    {
     "name": "stdout",
     "output_type": "stream",
     "text": [
      "                                                                                                                                                                                                                                                                                                                                                                                                                                                                                                                                                                                                                                                                                                                                                                                                                                                                                                                                                                                                                                                                                                                                                                                                                                                                                                                                                                                                                                                                                                                                                                                                                                                                                                                                                                                                                                                                                                                                                                                                                                                                                                                                                                                                                                                                                                                                                                                                                                                                                                                                                                                                                                                                                                                                                                                                                                                                                                                                                                                                                                                                                                                                                                                                                                                                                                                                                                                                                                                                                                                                                                                                                                                                                                                                                                                                                                                                                                                                                                                                                                                                                                                                                                                                                                                                                                                                                                                                                                                                                                                                                                                                                                                                                                                                                                                                                                                                                                                                                                                                                                                                                                                                                                                                                                                                                                                                                                                                                                                                                                                                                                                                                                                                                                                                                                                                                                                                                                                                                                                                                                                                                                                                                                                                                                                                                                                                                                                                                                                                                                                                                                                                                                                                                                                                                                                                                                                                                                                                                                                                                                                                                                                                                                                                                                                                                                                                                                                                                                                                                                                                                                                                                                                                                                                                                                                                                                                                                                                                                                                                                                                                                                                                                                                                                                                                                                                                                                           review_body  \\\n",
      "0                                                                                                                                                                                                                                                                                                                                                                                                                                                                                                                                                                                                                                                                                                                                                                                                                                                                                                                                                                                                                                                                                                                                                                                                                                                                                                                                                                                                                                                                                                                                                                                                                                                                                                                                                                                                                                                                                                                                                                                                                                                                                                                                                                                                                                                                                                                                                                                                                                                                                                                                                                                                                                                                                                                                                                                                                                                                                                                                                                                                                                                                                                                                                                                                                                                                                                                                                                                                                                                                                                                                                                                                                                                                                                                                                                                                                                                                                                                                                                                                                                                                                                                                                                                                                                                                                                                                                                                                                                                                                                                                                                                                                                                                                                                                                                                                                                                                                                                                                                                                                                                                                                                                                                                                                                                                                                                                                                                                                                                                                                                                                                                                                                                                                                                                                                                                                                                                                                                                                                                                                                                                                                                                                                                                                                                                                                                                                                                                                                                                                                                                                                                                                                                                                                                                                                                                                                                                                                                                                                                                                                                                                             This game has a few bugs I've encounter but nothing that ruins it or makes it a pain to play. The amount of things to research, build, or upgrade is something I spend tons of tIme on because I love being able to micromanage them. If I get sick of that ( which I haven't in 20+  hrs of play) I get enjoy the awesome turn based combat which IMO they almost perfected. I never played the original, so I can't really compare them, but they definitely did an awesome job on this game (- the bugs which will be fixed in future updates). Really though, what game ever launches without some bugs though? Very few I'm aware of but like i said, they don't affect my enjoyment in this game one bit! What's all this beef about steam anyway? I used to not like it myself until bought my first game on it and realized what a blessing for me it was. If your anything like me, cd's/DVD's tend to get damaged or lost especially with kids and an OCD wife who loves to throw away things she thinks are trash. With steam, I don't have to worry about loosing any of the discs or the cd keys. I wrote this on a smoke break from xcom, sorry if it seems like I'm a 15 y/o but I'm in a hurry to get back to some new weapons I finally had the money to manufacture...   \n",
      "1                                                                                                                                                                                                                                                                                                                                                                                                                                                                                                                                                                                                                                                                                                                                                                                                                                                                                                                                                                                                                                                                                                                                                                                                                                                                                                                                                                                                                                                                                                                                                                                                                                                                                                                                                                                                                                                                                                                                                                                                                                                                                                                                                                                                                                                                                                                                                                                                                                                                                                                                                                                                                                                                                                                                                                                                                                                                                                                                                                                                                                                                                                                                                                                                                                                                                                                                                                                                                                                                                                                                                                                                                                                                                                                                                                                                                                                                                                                                                                                                                                                                                                                                                                                                                                                                                                                                                                                                                                                                                                                                                                                                                                                                                                                                                                                                                                                                                                                                                                                                                                                                                                                                                                                                                                                                                                                                                                                                                                                                                                                                                                                                                                                                                                                                                                                                                                                                                                                                                                                                                                                                                                                                                                                                                                                                                                                                                                                                                                                                                                                                                                                                                                                                                                                                                                                                                                                                                                                                                                                                                                                                                                                                                                                                                                                                                                                                                                                                                                                                                                                                                                                                                                                                                                                                                                                                                                                                                                                                                                                                                                                                                                                                                                                                                                             This is a poor substitute for the Real Blues Brothers.  Its complete garbage and an obvious copy of their album Briefcase Full of Blues.   \n",
      "2  For its price, this DLC gives you what amounts to little more than a multiplayer-only mod in no way superior to other mods done by amateurs and posted for free on TaleWorlds' modification forums.  The only unique aspect here is that it's been officially commissioned by the gamemakers, given a few lines of spoken dialogue, and charged money for it.<br /><br />Mount & Blade is incredibly diverse in its modding capabilities, and over the years since its first release, has seen people mod the game to play as realistic Medieval or ancient combat, to Feudal Japanese settings, even to modern era gunpowder mods set in the American Old West or even World War II.<br /><br />This mod in particular does what I've long thought to be a fun challenge for gamemakers such as those behind the Call of Duty franchise to explore; the days when firing off a single shot was a big deal and often resorting to the bayonet was more likely to save you than stopping to reload.<br /><br />History Channel games tried this approach with their Civil War games, and avoided the need for formations or fellow soldiers by having it be \\\"special ops\\\" type missions involving one man as a spy.<br /><br />But this mod shows that such a thing can be accomplished and can be fun.  It works out wonderfully here, it could work out amazingly well as a Call of Duty game.<br /><br />The biggest problem however is that the limitations of the historical technology would mean that more stuff would need to be added.  If gunplay is to be hindered by realistic reload times and poor firing accuracy, additional gameplay features need to be given; expanded melee combat, perhaps, specialized tasks to be accomplished, many different game modes and wider variety of weapon choices.<br /><br />This mod does the best it can with game modes like Siege, Battle, Team Deathmatch, and having the ability to change as various infantry types, cavalry, even artillerymen able to use cannons with all the proper steps---loading, cleaning the barrel, pushing the cannon forward, aiming, igniting the fuse.<br /><br />But it doesn't do enough;<br /><br />- The gunplay is identical to that used in half a dozen gunpowder mods, stepped down by having no ability to zoom in via looking down the barrel's iron sights.<br />- The melee combat is in no way changed or updated from the base game; swords and spears and bludgeoning weapons all operate exactly the same way, with a long thin sword being wielded exactly the same as a stubby dagger or a curved cavalry sabre.<br />- A lot of the weapons have little or no explanation to them.  Cavalry and infantry muskets appear to be completely identical, save that cavalry muskets have no bayonets.  Rifles appear, but are in no way faster or more accurate than muskets.  A standard (re, flag) can be used as a lance-like weapon but I've never seen it actually hurt or kill someone run down by it.  Artillerymen/engineers are given shovels that can't be used as weapons and no explanation given as to when and where they can be used for sapping.<br />- Bayonets instantly kill if they touch you.  No other melee weapon does this, not swords or spears or axes; if an enemy stabs you with a bayonet, you pretty much die instantly.<br />- All battle modes are essentially the same; as all war game shooters are likely to be, everyone wanders about on their own, hunting and killing members of opposing teams, only occasionally working together in groups of two or three, but rarely more.  While it would be impractical to get enough people to form up in a line as real Napoleonic soldiers would, there isn't even the slightest attempt to encourage such a thing, no added bonuses to accuracy or firepower to reward people for firing together en masse, no game modes that would stress this sort of gameplay.<br /><br />And despite the gameplay modes of Siege, Team Deathmatch, Battle and so on, every gamemode is basically the same; the only difference lies in patience.  If you're willing to join a gameand have to wait 10 minutes for the round to end before spawning for the first time, only to wait again if and when you die seconds after spawning (team killing is always enabled), you can join Battle mode.  Team Deathmatch allows for infinite instant respawns.  Siege mode involves one side attacking an entrenched enemy, though boredom so often gets the better of people and defenders simply go out in search of targets to kill.<br /><br />Then, the people.  As with any multiplayer game, you're liable to have to deal with people who think it's fun to teamkill, or turn their mouse sensitivity all the way up so they can spin circles around you while flailing their swords like the Tasmanian Devil, or what people in the games call \\\"horse noobs\\\" who always pick cavalry, and always run down people from behind, a typical and legitimate tactic even in real life, yet somehow exacerbated by everyone wandering around on their own, no formations, and with bayonets barely ever scratching horses as they pass by.<br /><br />Managing to land your first shot on someone and kill them would be a giddy experience, but more often than not you'll end up frustrated not so much that your shot has missed close to point-blank range, but that your target will simply rush up to you, stabbing with their bayonet, and incessantly circling around you while strafing side to side in a way I think even real life Napoleonic soldiers in a melee would've been unable to manage while stabbing with their bayonets without tripping and falling.<br /><br />As a game mod, it is spectacularly done, though gets tiresome quickly, particularly being multiplayer-only.  As something that would cost you money, it's hardly worth the expense.  You would have a far better gameplay experience downloading a Napoleonic Wars mod available for free and fighting with an intelligent AI, more likely to fight realistically for the period.  Otherwise, why bother with a Napoleonic Era mod; there are more players playing the base game online to melee with.and have to wait 10 minutes for the round to end before spawning for the first time, only to wait again if and when you die seconds after spawning (team killing is always enabled), you can join Battle mode.  Team Deathmatch allows for infinite instant respawns.  Siege mode involves one side attacking an entrenched enemy, though boredom so often gets the better of people and defenders simply go out in search of targets to kill.<br /><br />Then, the people.  As with any multiplayer game, you're liable to have to deal with people who think it's fun to teamkill, or turn their mouse sensitivity all the way up so they can spin circles around you while flailing their swords like the Tasmanian Devil, or what people in the games call \\\"horse noobs\\\" who always pick cavalry, and always run down people from behind, a typical and legitimate tactic even in real life, yet somehow exacerbated by everyone wandering around on their own, no formations, and with bayonets barely ever scratching horses as they pass by.<br /><br />Managing to land your first shot on someone and kill them would be a giddy experience, but more often than not you'll end up frustrated not so much that your shot has missed close to point-blank range, but that your target will simply rush up to you, stabbing with their bayonet, and incessantly circling around you while strafing side to side in a way I think even real life Napoleonic soldiers in a melee would've been unable to manage while stabbing with their bayonets without tripping and falling.<br /><br />As a game mod, it is spectacularly done, though gets tiresome quickly, particularly being multiplayer-only.  As something that would cost you money, it's hardly worth the expense.  You would have a far better gameplay experience downloading a Napoleonic Wars mod available for free and fighting with an intelligent AI, more likely to fight realistically for the period.  Otherwise, why bother with a Napoleonic Era mod; there are more players playing the base game online to melee with.   \n",
      "3                                                                                                                                                                                                                                                                                                                                                                                                                                                                                                                                                                                                                                                                                                                                                                                                                                                                                                                                                                                                                                                                                                                                                                                                                                                                                                                                                                                                                                                                                                                                                                                                                                                                                                                                                                                              I turn 60 this year, so keep that in mind that my musical experience spans over half a century.  Please, please, I'm not saying that makes me smart or that my opinions are more valid because I'm an old fart.  All I'm saying is that I am perhaps not as given to being caught up in trends.  Fair enough? (Skip to the last line if you want ONLY a review)<br /><br />When I first heard of the Killers I thought that, with such an inappropriate name, how could they be anything but a messed up bunch of young people.\\\"  So when my wife's young co-worker - who has good values - asked for Hot Fuss for her birthday, I was surprised, and my interest was piqued...after all, I'm always looking for the next legitimate contributor to music.<br /><br />After listening to Hot Fuss I felt it was not only great music, but that the band had the potential to last.  The potential to last comes from the songs, for sure, but it is primarily due to the fact that Brandon Flowers is fun to watch, has thought provoking lyrics, and his voice isn't the usual bland, affected, auto-tuned voice you tend to hear with so many bands and performers these days. But, at the end of the day, it was that his voice is terrific, and very interesting to listen to.  He tells stories.<br /><br />I thought it was a joke when someone told me Brandon Flowers is a Mormon, so I checked it out at lds.org and found that it was true.  But the video he put on that site has Crossfire and another country sounding song as background to his voice.  I loved both of the songs I heard.  Below his video it talked about how he had released a solo album in the fall of 2010, and I was surprised that I hadn't heard about it, so I watched and listened to the video several more times and, liking the songs, bought the album.<br /><br />My review is that Brandon Flowers, uh, delivers.  His songs are thought provoking, as I've said, but there is a yearning in his lyrics that I relate to.... that feeling that he sees things clearly in his life- people, places - and tells stories about them....that there is always something missing, or that he doesn't understand, but he observes rather than judges for the most part.  He does get personal at times, perhaps justifying his approach to life, spirituality, people, etc.  But it is sincere and interesting.<br /><br />As a songwriter I always start with the lyrics, so the fact that his lyrics are so good enhances my appreciation of his compositions.  If you listen to popular artists such as Coldplay you'll hear some interesting lyrics, but Chris Martin gets a little lazy and repeats his 'good lyrics' on occasion rather than come up with additional lyrics that are just as good.  It's not a cardinal sin but, to my way of thinking, it is lazy.  You can repeat lyrics but slightly change them and it's good enough, but to repeat verbatim....not good enough, at least to me.  Brandon Flowers is at 'another level,' and his voice is so very interesting, yet unpretentious.  This is not to cap on Chris Martin, but these are two important singers of our time, so comparing Flowers with Martin helps me to make a point (I like Coldplay a lot, so this is just my way of pointing out what I like about Brandon Flowers.....).<br /><br />Chris Martin writes a lot of songs where he sings in falsetto for most of the song.  He has a nice falsetto, but he is, after all, the composer, and can write a song in any key he chooses, so why not write it in a lower key?  To me, he does it to show that he can sing falsetto and, again, to me, it is pretentious to write songs where he is in falsetto most of - but not all of - the time.  The purpose of a song should be to deliver a message through music, not to say \\\"look what I can do.\\\"  And the fact is that, as good as his falsetto is, when any singer goes into, then pulls out of, falsetto, there is a difference in tonal timbre.  It is distracting to the melody, at least for me.  The first popular artist to use falsetto on almost every song was David Gates of Bread.  He used it to make the music more interesting (singing in that upper register to expand the range of the melody), but not to 'show off.'<br /><br />Now back to my review of Brandon Flowers: his voice is at once rich, gritty, baritone, tenor, but always - always - expressive in a way that expands the power of the lyrics and music.  He is, to me - as opposed to Chris Martin - a pure musician.  No weird graffiti on his keyboards or other instruments, just pure, American music.  His singing, even his little flirtations with falsetto, seems authentic - yes, they are done for effect, but the effect relates to the song, not to the fact that 'he can do it.'<br /><br />In closing, it is interesting that many people thought the Killers were European at first (and they've been, if anything, more popular in Europe than anywhere else, so the impression, while unintended, was genuinely derived).  I love most great music, from sacred to Peter, Paul & Mary, from Steve Winwood to Iron Maiden, so my biases are limited.  But, if I had to say one thing about British music vs. American rock it is that British music tends to be more sophisticated, the harmonies tighter, the lyrics less whimsical, the arrangements richer unpredictable, as opposed to being a platform for an inevitable lead guitar solo preceded by 2 verses, followed by a verse, a bridge, and a final verse.  These are a few of the more refined qualities that I see in British bands, and I find them to be present in the music of the Killers, and I think it is a compliment that they were seen that way.  Brandon Flowers take this one step further, and assimilates these elements so they authentically flavor his work.<br /><br />Everyone is influenced by the music they hear, the artists they see perform.  So, at some level, imitation is always a part of the recipe.  But I find the Killers' music to be genuine because, as opposed to mimicking these elements, it integrates them into the personality of their work.These influences are therefore not karaoke-like, but have been ingested such that they become part of the fabric of their music.  This is what I mean by authentic.<br /><br />Now, my review:  Brandon Flowers CD \\\"Flamingo?\\\"  Buy it if you like the Killers at all.  And, if you like the Killers, I think you'll love Flamingo.   \n",
      "4                                                                                                                                                                                                                                                                                                                                                                                                                                                                                                                                                                                                                                                                                                                                                                                                                                                                                                                                                                                                                                                                                                                                                                                                                                                                                                                                                                                                                                                                                                                                                                                                                                                                                                                                                                                                                                                                                                                                                                                                                                                                                                                                                                                                                                                                                                                                                                                                                                                                                                                                                                                                                                                                                                                                                                                                                                                                                                                                                                                                                                                                                                                                                                                                                                                                                                                                                                                                                                                                                                                                                                                                                                                                                                                                                                                                                                                                                                                                                                                                                                                                                                                                                                                                                                                                                                                                                                                                                                                                                                                                                                                                                                                                                                                                                                                                                                                                                                                                                                                                                                                                                                                                                                                                                                                                                                                                                                                                                                                                                                                                                                                                                                                                                                                                                                                                                                                                                                                                                                                                                                                                                                                                                                                                                                                                                                                                                                                                                                                                                                                                                                                                                                                                                                                                                                                                                                                                                                                                                                                                                                                                                                                                                                                                                                                                                                                                                                                                                                                                                                                                 This was the first time for me to buy any software [Download Version] on Amazon so I was a bit nervous but it was very easy to install/renew!<br /><br />(1) Download<br />(2) Enter the &#34;Product Key&#34;<br /><br />=====How to find your &#34;Product Key&#34;=====<br /><br />Step 1: Go to &#34;Your Account&#34;<br />Step 2: Click &#34;Your Order&#34;<br />Step 3: Next to the product you bought, &#34;Go to Your Software Library&#34; - click<br /><br />You'll be able to find your product key!!<br /><br />P.S.<br />If you would like to renew Norton subscription, (1) Open Your Current Norton Software, (2) You can click &#34;Renew&#34; next to &#34;Subscription Status&#34; (3) New window &#34;Subscription&#34; open, then click &#34;I have a key or code to enter&#34; and enter the product key you got from Amazon.   \n",
      "\n",
      "  overall_sentiment  \\\n",
      "0          Positive   \n",
      "1          Negative   \n",
      "2          Negative   \n",
      "3              None   \n",
      "4          Positive   \n",
      "\n",
      "                                                                                                                                                                                                        aspect_sentiment  \\\n",
      "0            {\"Product Quality\": \"Positive\", \"Price & Value\": \"N/A\", \"Usability\": \"Positive\", \"Access & Compatibility\": \"Positive\", \"Customer Support\": \"N/A\", \"Content Variety & Features\": \"Positive\", \"Other\": \"N/A\"}   \n",
      "1                      {\"Product Quality\": \"Negative\", \"Price & Value\": \"N/A\", \"Usability\": \"N/A\", \"Access & Compatibility\": \"N/A\", \"Customer Support\": \"N/A\", \"Content Variety & Features\": \"Negative\", \"Other\": \"N/A\"}   \n",
      "2  {\"Product Quality\": \"Negative\", \"Price & Value\": \"Negative\", \"Usability\": \"Negative\", \"Access & Compatibility\": \"Negative\", \"Customer Support\": \"N/A\", \"Content Variety & Features\": \"Negative\", \"Other\": \"Negative\"}   \n",
      "3                                                                                                                                                                                                                     {}   \n",
      "4                      {\"Product Quality\": \"N/A\", \"Price & Value\": \"N/A\", \"Usability\": \"Positive\", \"Access & Compatibility\": \"Positive\", \"Customer Support\": \"N/A\", \"Content Variety & Features\": \"N/A\", \"Other\": \"N/A\"}   \n",
      "\n",
      "                                                             main_problem  \\\n",
      "0                                  Minor bugs present but non-disruptive.   \n",
      "1        Copied, low-quality substitute of the Real Blues Brothers album.   \n",
      "2  Overpriced DLC with minimal unique content and poor overall execution.   \n",
      "3                                                                    None   \n",
      "4                                                                    None   \n",
      "\n",
      "                                                                                    reason  \\\n",
      "0                                               Bugs mentioned but do not affect enjoyment   \n",
      "1                                                 Substantial plagiarism and poor quality.   \n",
      "2  Charged money for a mod that adds little unique value and has numerous gameplay issues.   \n",
      "3                                                                                     None   \n",
      "4                     User found buying and installing software on Amazon easy and smooth.   \n",
      "\n",
      "  text_rating  \n",
      "0           0  \n",
      "1           0  \n",
      "2           0  \n",
      "3        None  \n",
      "4           0  \n"
     ]
    }
   ],
   "source": [
    "pd.set_option('display.max_colwidth', None)\n",
    "print(df_run.head(5)[[TEXT_COL, 'overall_sentiment', 'aspect_sentiment', 'main_problem', 'reason', 'text_rating']])"
   ]
  }
 ],
 "metadata": {
  "kernelspec": {
   "display_name": ".venv",
   "language": "python",
   "name": "python3"
  },
  "language_info": {
   "codemirror_mode": {
    "name": "ipython",
    "version": 3
   },
   "file_extension": ".py",
   "mimetype": "text/x-python",
   "name": "python",
   "nbconvert_exporter": "python",
   "pygments_lexer": "ipython3",
   "version": "3.11.9"
  }
 },
 "nbformat": 4,
 "nbformat_minor": 2
}
